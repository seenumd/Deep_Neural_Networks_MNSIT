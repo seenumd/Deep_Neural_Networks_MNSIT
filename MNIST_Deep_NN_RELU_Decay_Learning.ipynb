{
 "cells": [
  {
   "cell_type": "markdown",
   "metadata": {
    "colab_type": "text",
    "id": "udXq5MTKxOjf"
   },
   "source": [
    "## MNIST Classification - DNN with Relu activation"
   ]
  },
  {
   "cell_type": "markdown",
   "metadata": {},
   "source": [
    "## Agenda:\n",
    "1. Deep Neural Networks\n",
    "2. MNIST data\n",
    "\t- Collect data with one_hot\n",
    "\t- Get train and test data\n",
    "3. Define Parameters\n",
    "\t- Logging path\n",
    "\t- Strating Learning Rate\n",
    "\t- Features and classes\n",
    "\t- Batch size and Training epochs\n",
    "\t- Neurons in hidden layers\n",
    "4. Build the Graph\n",
    "\t- Define placeholders and Vriables for all layers\n",
    "\t- Prediction\n",
    "\t- Loss\n",
    "\t- Optimizer\n",
    "\t- Model Accuracy\n",
    "\t- Logging\n",
    "5. Execute the Graph\n",
    "\t- Create Sesson\n",
    "\t- Run session on training set\n",
    "\t- Run session on Test set\n",
    "\t- Log the loss and accuracy for train and test\n",
    "\t- Save the model\n",
    "\t- Close the session"
   ]
  },
  {
   "cell_type": "markdown",
   "metadata": {},
   "source": [
    "#### Neural networks\n",
    "A beautiful biologically-inspired programming paradigm which enables a computer to learn from observational data. It mimic the human brain.\n",
    "Artificial neuron called a perceptron. Set of layerd fully connected perceptrons call a **Neural Network**. In the network, the first column of perceptrons - what we'll call the first layer of nueron - is making very simple decisions, by weighing the input evidence. Neurons in the second layer making a decision by weighing up the results from the first layer of decision-making. In this way a neuron in the second layer can make a decision at a more complex and more abstract level than perceptrons in the first layer. And even more complex decisions can be made by the neurons in the third layer. In this way, a many-layer network of neurons can engage in sophisticated decision making. We apply 4 layered artificial neural nentwork to train and test the MNSIT data set.\n"
   ]
  },
  {
   "cell_type": "code",
   "execution_count": 1,
   "metadata": {
    "colab": {
     "autoexec": {
      "startup": false,
      "wait_interval": 0
     }
    },
    "colab_type": "code",
    "id": "h3VejzglxOjg"
   },
   "outputs": [],
   "source": [
    "import tensorflow as tf"
   ]
  },
  {
   "cell_type": "code",
   "execution_count": 2,
   "metadata": {
    "colab": {
     "autoexec": {
      "startup": false,
      "wait_interval": 0
     }
    },
    "colab_type": "code",
    "id": "MqVPKByixOjk"
   },
   "outputs": [],
   "source": [
    "tf.reset_default_graph()"
   ]
  },
  {
   "cell_type": "code",
   "execution_count": 3,
   "metadata": {
    "colab": {
     "autoexec": {
      "startup": false,
      "wait_interval": 0
     }
    },
    "colab_type": "code",
    "id": "18KTJLLlzXFI"
   },
   "outputs": [],
   "source": [
    "#Set random seed for reproducible results\n",
    "tf.set_random_seed(42)"
   ]
  },
  {
   "cell_type": "markdown",
   "metadata": {},
   "source": [
    "## MNIST data\n",
    "The MNIST database of handwritten digits, available from http://yann.lecun.com/exdb/mnist/ page, has a training set of 55,000 examples, and a test set of 10,000 examples. It is a subset of a larger set available from NIST. The digits have been size-normalized and centered in a fixed-size image of 28x28.\n",
    "It is a good database for people who want to try learning techniques and pattern recognition methods on real-world data while spending minimal efforts on preprocessing and formatting.\n",
    "\n",
    "Four files are available on this database:    \n",
    "train-images-idx3-ubyte.gz:  training set images  \n",
    "train-labels-idx1-ubyte.gz:  training set labels   \n",
    "t10k-images-idx3-ubyte.gz:   test set images    \n",
    "t10k-labels-idx1-ubyte.gz:   test set labels \n",
    "\n",
    "28x28 handwritten digits image data faltten in to a vector form of size 784"
   ]
  },
  {
   "cell_type": "markdown",
   "metadata": {
    "colab_type": "text",
    "id": "LajgRMShxOjm"
   },
   "source": [
    "### Collect Data"
   ]
  },
  {
   "cell_type": "code",
   "execution_count": 4,
   "metadata": {
    "colab": {
     "autoexec": {
      "startup": false,
      "wait_interval": 0
     }
    },
    "colab_type": "code",
    "id": "Sk_xowpZxOjo"
   },
   "outputs": [
    {
     "name": "stdout",
     "output_type": "stream",
     "text": [
      "WARNING:tensorflow:From <ipython-input-4-93d8da72a918>:2: read_data_sets (from tensorflow.contrib.learn.python.learn.datasets.mnist) is deprecated and will be removed in a future version.\n",
      "Instructions for updating:\n",
      "Please use alternatives such as official/mnist/dataset.py from tensorflow/models.\n",
      "WARNING:tensorflow:From C:\\Users\\s.mudalapuram\\AppData\\Roaming\\Python\\Python36\\site-packages\\tensorflow\\contrib\\learn\\python\\learn\\datasets\\mnist.py:260: maybe_download (from tensorflow.contrib.learn.python.learn.datasets.base) is deprecated and will be removed in a future version.\n",
      "Instructions for updating:\n",
      "Please write your own downloading logic.\n",
      "WARNING:tensorflow:From C:\\Users\\s.mudalapuram\\AppData\\Roaming\\Python\\Python36\\site-packages\\tensorflow\\contrib\\learn\\python\\learn\\datasets\\base.py:252: _internal_retry.<locals>.wrap.<locals>.wrapped_fn (from tensorflow.contrib.learn.python.learn.datasets.base) is deprecated and will be removed in a future version.\n",
      "Instructions for updating:\n",
      "Please use urllib or similar directly.\n",
      "Successfully downloaded train-images-idx3-ubyte.gz 9912422 bytes.\n",
      "WARNING:tensorflow:From C:\\Users\\s.mudalapuram\\AppData\\Roaming\\Python\\Python36\\site-packages\\tensorflow\\contrib\\learn\\python\\learn\\datasets\\mnist.py:262: extract_images (from tensorflow.contrib.learn.python.learn.datasets.mnist) is deprecated and will be removed in a future version.\n",
      "Instructions for updating:\n",
      "Please use tf.data to implement this functionality.\n",
      "Extracting MNIST_data\\train-images-idx3-ubyte.gz\n",
      "Successfully downloaded train-labels-idx1-ubyte.gz 28881 bytes.\n",
      "WARNING:tensorflow:From C:\\Users\\s.mudalapuram\\AppData\\Roaming\\Python\\Python36\\site-packages\\tensorflow\\contrib\\learn\\python\\learn\\datasets\\mnist.py:267: extract_labels (from tensorflow.contrib.learn.python.learn.datasets.mnist) is deprecated and will be removed in a future version.\n",
      "Instructions for updating:\n",
      "Please use tf.data to implement this functionality.\n",
      "Extracting MNIST_data\\train-labels-idx1-ubyte.gz\n",
      "WARNING:tensorflow:From C:\\Users\\s.mudalapuram\\AppData\\Roaming\\Python\\Python36\\site-packages\\tensorflow\\contrib\\learn\\python\\learn\\datasets\\mnist.py:110: dense_to_one_hot (from tensorflow.contrib.learn.python.learn.datasets.mnist) is deprecated and will be removed in a future version.\n",
      "Instructions for updating:\n",
      "Please use tf.one_hot on tensors.\n",
      "Successfully downloaded t10k-images-idx3-ubyte.gz 1648877 bytes.\n",
      "Extracting MNIST_data\\t10k-images-idx3-ubyte.gz\n",
      "Successfully downloaded t10k-labels-idx1-ubyte.gz 4542 bytes.\n",
      "Extracting MNIST_data\\t10k-labels-idx1-ubyte.gz\n",
      "WARNING:tensorflow:From C:\\Users\\s.mudalapuram\\AppData\\Roaming\\Python\\Python36\\site-packages\\tensorflow\\contrib\\learn\\python\\learn\\datasets\\mnist.py:290: DataSet.__init__ (from tensorflow.contrib.learn.python.learn.datasets.mnist) is deprecated and will be removed in a future version.\n",
      "Instructions for updating:\n",
      "Please use alternatives such as official/mnist/dataset.py from tensorflow/models.\n"
     ]
    }
   ],
   "source": [
    "from tensorflow.examples.tutorials.mnist import input_data\n",
    "mnist = input_data.read_data_sets('MNIST_data', one_hot=True)"
   ]
  },
  {
   "cell_type": "markdown",
   "metadata": {
    "colab_type": "text",
    "id": "EpAuPcuDxOjw"
   },
   "source": [
    "Get Training and Test Data"
   ]
  },
  {
   "cell_type": "code",
   "execution_count": 5,
   "metadata": {
    "colab": {
     "autoexec": {
      "startup": false,
      "wait_interval": 0
     }
    },
    "colab_type": "code",
    "id": "kDK7B01nxOjx"
   },
   "outputs": [],
   "source": [
    "trainX = mnist.train.images\n",
    "trainY = mnist.train.labels"
   ]
  },
  {
   "cell_type": "code",
   "execution_count": 6,
   "metadata": {
    "colab": {
     "autoexec": {
      "startup": false,
      "wait_interval": 0
     }
    },
    "colab_type": "code",
    "id": "mOkcRmnCxOjz"
   },
   "outputs": [],
   "source": [
    "testX = mnist.test.images\n",
    "testY = mnist.test.labels"
   ]
  },
  {
   "cell_type": "markdown",
   "metadata": {
    "colab_type": "text",
    "id": "mj-c_ZowxOj7"
   },
   "source": [
    "Lets define some parameters"
   ]
  },
  {
   "cell_type": "code",
   "execution_count": 22,
   "metadata": {
    "colab": {
     "autoexec": {
      "startup": false,
      "wait_interval": 0
     }
    },
    "colab_type": "code",
    "id": "TYq9xYm1xOj8"
   },
   "outputs": [],
   "source": [
    "#Directory to save logs and graph, change it as needed\n",
    "logs_path='/tmp/mnist/relu'\n",
    "\n",
    "#Learning rate\n",
    "starting_learning_rate = 0.003\n",
    "\n",
    "#Number of input features - MNIST has 784 features\n",
    "n_features = trainX.shape[1]\n",
    "\n",
    "#Number of possible output classess - 10 for MNIST\n",
    "n_classes = trainY.shape[1]\n",
    "\n",
    "#Model name for storage\n",
    "model_name = 'mnist_dnn_relu_decay.ckpt'\n",
    "\n",
    "#How many examples to feed for training at one time\n",
    "batch_size = 100\n",
    "\n",
    "#How many times all the data to be shown\n",
    "training_epochs = 60\n",
    "\n",
    "#Define number of neurons in 4 hidden layers\n",
    "K = 200\n",
    "L = 100\n",
    "M = 60\n",
    "N = 30"
   ]
  },
  {
   "cell_type": "markdown",
   "metadata": {
    "colab_type": "text",
    "id": "anMYDwTE5_DX"
   },
   "source": [
    "Parameters for Learning rate decay"
   ]
  },
  {
   "cell_type": "code",
   "execution_count": 8,
   "metadata": {
    "colab": {
     "autoexec": {
      "startup": false,
      "wait_interval": 0
     }
    },
    "colab_type": "code",
    "id": "FfGl1uZC53j3"
   },
   "outputs": [],
   "source": [
    "#Decay steps \n",
    "decay_steps = 10000 \n",
    "\n",
    "#Decay rate - should be less than 1\n",
    "decay_rate = 0.96"
   ]
  },
  {
   "cell_type": "markdown",
   "metadata": {
    "colab_type": "text",
    "id": "kjqpMgJHxOj_"
   },
   "source": [
    "# Build the Graph"
   ]
  },
  {
   "cell_type": "markdown",
   "metadata": {
    "colab_type": "text",
    "id": "mWBUbx3-xOkA"
   },
   "source": [
    "Input placeholders"
   ]
  },
  {
   "cell_type": "code",
   "execution_count": 9,
   "metadata": {
    "colab": {
     "autoexec": {
      "startup": false,
      "wait_interval": 0
     }
    },
    "colab_type": "code",
    "id": "-oEuMNRpxOkE"
   },
   "outputs": [],
   "source": [
    "with tf.name_scope('input'):\n",
    "    \n",
    "    # None -> batch size can be any size, with n_features\n",
    "    x = tf.placeholder(tf.float32, shape=[None, n_features], name=\"x-input\") \n",
    "    \n",
    "    # target n_classes output classes\n",
    "    y_ = tf.placeholder(tf.float32, shape=[None, n_classes], name=\"y-input\")"
   ]
  },
  {
   "cell_type": "markdown",
   "metadata": {
    "colab_type": "text",
    "id": "iitA4a3xxOkJ"
   },
   "source": [
    "Layer 1"
   ]
  },
  {
   "cell_type": "code",
   "execution_count": 10,
   "metadata": {
    "colab": {
     "autoexec": {
      "startup": false,
      "wait_interval": 0
     }
    },
    "colab_type": "code",
    "id": "RTDC2G1gxOkK"
   },
   "outputs": [],
   "source": [
    "with tf.name_scope('layer_1'):\n",
    "    W1 = tf.Variable(tf.truncated_normal([n_features, K], stddev=0.1))\n",
    "    b1 = tf.Variable(tf.zeros([K]))\n",
    "    Y1 = tf.nn.relu(tf.add(tf.matmul(x,W1),b1))"
   ]
  },
  {
   "cell_type": "markdown",
   "metadata": {
    "colab_type": "text",
    "id": "nAaxSfOixOkP"
   },
   "source": [
    "Layer 2"
   ]
  },
  {
   "cell_type": "code",
   "execution_count": 11,
   "metadata": {
    "colab": {
     "autoexec": {
      "startup": false,
      "wait_interval": 0
     }
    },
    "colab_type": "code",
    "id": "4B8S5_tdxOkQ"
   },
   "outputs": [],
   "source": [
    "with tf.name_scope('layer_2'):\n",
    "    W2 = tf.Variable(tf.truncated_normal([K, L], stddev=0.1))\n",
    "    b2 = tf.Variable(tf.zeros([L]))\n",
    "    Y2 = tf.nn.relu(tf.add(tf.matmul(Y1,W2),b2))"
   ]
  },
  {
   "cell_type": "markdown",
   "metadata": {
    "colab_type": "text",
    "id": "gwMrB6yOxOkS"
   },
   "source": [
    "Layer 3"
   ]
  },
  {
   "cell_type": "code",
   "execution_count": 12,
   "metadata": {
    "colab": {
     "autoexec": {
      "startup": false,
      "wait_interval": 0
     }
    },
    "colab_type": "code",
    "id": "WiQy4pEaxOkT"
   },
   "outputs": [],
   "source": [
    "with tf.name_scope('layer_3'):\n",
    "    W3 = tf.Variable(tf.truncated_normal([L, M], stddev=0.1))\n",
    "    b3 = tf.Variable(tf.zeros([M]))\n",
    "    Y3 = tf.nn.relu(tf.add(tf.matmul(Y2,W3),b3))"
   ]
  },
  {
   "cell_type": "markdown",
   "metadata": {
    "colab_type": "text",
    "id": "EUqvBlhYxOkX"
   },
   "source": [
    "Layer 4"
   ]
  },
  {
   "cell_type": "code",
   "execution_count": 13,
   "metadata": {
    "colab": {
     "autoexec": {
      "startup": false,
      "wait_interval": 0
     }
    },
    "colab_type": "code",
    "id": "JLdRZEbKxOkZ"
   },
   "outputs": [],
   "source": [
    "with tf.name_scope('layer_4'):\n",
    "    W4 = tf.Variable(tf.truncated_normal([M, N], stddev=0.1))\n",
    "    b4 = tf.Variable(tf.zeros([N]))\n",
    "    Y4 = tf.nn.relu(tf.add(tf.matmul(Y3,W4),b4))"
   ]
  },
  {
   "cell_type": "markdown",
   "metadata": {
    "colab_type": "text",
    "id": "1xkuvikqxOkd"
   },
   "source": [
    "Output Layer   "
   ]
  },
  {
   "cell_type": "code",
   "execution_count": 14,
   "metadata": {
    "colab": {
     "autoexec": {
      "startup": false,
      "wait_interval": 0
     }
    },
    "colab_type": "code",
    "id": "3JT7E6afxOkd"
   },
   "outputs": [],
   "source": [
    "with tf.name_scope(\"Output\"):\n",
    "    W5 = tf.Variable(tf.truncated_normal([N,n_classes], stddev=0.1))\n",
    "    b5 = tf.Variable(tf.zeros([n_classes]))\n",
    "    \n",
    "    #To use more stable version of cross_entropy loss in tensorflow\n",
    "    Ylogits = tf.matmul(Y4,W5) + b5\n",
    "    \n",
    "    #Actual prediction\n",
    "    y = tf.nn.softmax(tf.matmul(Y4,W5) + b5)"
   ]
  },
  {
   "cell_type": "markdown",
   "metadata": {
    "colab_type": "text",
    "id": "KZOn_BoZxOkf"
   },
   "source": [
    "Loss"
   ]
  },
  {
   "cell_type": "code",
   "execution_count": 15,
   "metadata": {
    "colab": {
     "autoexec": {
      "startup": false,
      "wait_interval": 0
     }
    },
    "colab_type": "code",
    "id": "7NtXNHN_xOkg"
   },
   "outputs": [],
   "source": [
    "with tf.name_scope('Loss'):\n",
    "    \n",
    "    #More stable version of cross_entroy    \n",
    "    cross_entropy = tf.nn.softmax_cross_entropy_with_logits_v2(logits=Ylogits, \n",
    "                                                               labels=y_)\n",
    "    cross_entropy = tf.reduce_mean(cross_entropy)*100"
   ]
  },
  {
   "cell_type": "markdown",
   "metadata": {
    "colab_type": "text",
    "id": "3JiyaGMExOki"
   },
   "source": [
    "GradientDescent Optimizer"
   ]
  },
  {
   "cell_type": "code",
   "execution_count": 16,
   "metadata": {
    "colab": {
     "autoexec": {
      "startup": false,
      "wait_interval": 0
     }
    },
    "colab_type": "code",
    "id": "ROup4Vn0xOkj"
   },
   "outputs": [],
   "source": [
    "with tf.name_scope('train'):\n",
    "    \n",
    "    #Capture current step\n",
    "    current_step = tf.Variable(0, trainable=False)\n",
    "    \n",
    "    #Exponential decay rate\n",
    "    #Formula for decay = \n",
    "    #  starting_learning_rate * decay_rate^(current_step/decay_steps)\n",
    "    learn_rate = tf.train.exponential_decay(starting_learning_rate, \n",
    "                                            current_step,\n",
    "                                            decay_steps, \n",
    "                                            decay_rate)    \n",
    "    \n",
    "    #GradientDescent optimizer with variable rate\n",
    "    #Current_step gets incremented by Optimizer step\n",
    "    train_op = tf.train.GradientDescentOptimizer(learn_rate).minimize(\n",
    "        cross_entropy, global_step=current_step)"
   ]
  },
  {
   "cell_type": "markdown",
   "metadata": {
    "colab_type": "text",
    "id": "LjmzY12HxOkl"
   },
   "source": [
    "Model Accuracy"
   ]
  },
  {
   "cell_type": "code",
   "execution_count": 17,
   "metadata": {
    "colab": {
     "autoexec": {
      "startup": false,
      "wait_interval": 0
     }
    },
    "colab_type": "code",
    "id": "xCeOvdLxxOkm"
   },
   "outputs": [],
   "source": [
    "with tf.name_scope('Accuracy'):\n",
    "    \n",
    "    #Get the number with highest probability\n",
    "    prediction = tf.argmax(y,1,name=\"Predict\")\n",
    "    \n",
    "    #Compare prediction with actual\n",
    "    correct_prediction = tf.equal(prediction, tf.argmax(y_,1))\n",
    "    \n",
    "    #Calculate mean accuracy across all data examples\n",
    "    accuracy = tf.reduce_mean(tf.cast(correct_prediction, tf.float32),\n",
    "                              name=\"accuracy\")"
   ]
  },
  {
   "cell_type": "markdown",
   "metadata": {
    "colab_type": "text",
    "id": "fCEYojdmxOkp"
   },
   "source": [
    "Loss and Accuracy Logging"
   ]
  },
  {
   "cell_type": "code",
   "execution_count": 18,
   "metadata": {
    "colab": {
     "autoexec": {
      "startup": false,
      "wait_interval": 0
     }
    },
    "colab_type": "code",
    "id": "BmJwQLyKxOkq"
   },
   "outputs": [],
   "source": [
    "# Training loss and accuracy\n",
    "training_loss = tf.summary.scalar(\"training_loss\", cross_entropy)\n",
    "training_accuracy = tf.summary.scalar(\"training_accuracy\", accuracy)\n",
    "\n",
    "#Test loss and accuracy\n",
    "test_loss = tf.summary.scalar(\"test_loss\", cross_entropy)\n",
    "test_accuracy = tf.summary.scalar(\"test_accuracy\", accuracy)\n",
    "\n",
    "# create log writer object\n",
    "writer = tf.summary.FileWriter(logs_path, graph=tf.get_default_graph())"
   ]
  },
  {
   "cell_type": "markdown",
   "metadata": {
    "colab_type": "text",
    "id": "_q0h_kp9xOkv"
   },
   "source": [
    "# Execute the Graph"
   ]
  },
  {
   "cell_type": "code",
   "execution_count": 23,
   "metadata": {
    "colab": {
     "autoexec": {
      "startup": false,
      "wait_interval": 0
     }
    },
    "colab_type": "code",
    "id": "0-QWn2kDxOkv"
   },
   "outputs": [
    {
     "name": "stdout",
     "output_type": "stream",
     "text": [
      "Epoch:  0\n",
      "Test Accuracy:  0.9428\n",
      "Epoch:  5\n",
      "Test Accuracy:  0.974\n",
      "Epoch:  10\n",
      "Test Accuracy:  0.9753\n",
      "Epoch:  15\n",
      "Test Accuracy:  0.9746\n",
      "Epoch:  20\n",
      "Test Accuracy:  0.9792\n",
      "Epoch:  25\n",
      "Test Accuracy:  0.9789\n",
      "Epoch:  30\n",
      "Test Accuracy:  0.9795\n",
      "Epoch:  35\n",
      "Test Accuracy:  0.9796\n",
      "Epoch:  40\n",
      "Test Accuracy:  0.9798\n",
      "Epoch:  45\n",
      "Test Accuracy:  0.9793\n",
      "Epoch:  50\n",
      "Test Accuracy:  0.9793\n",
      "Epoch:  55\n",
      "Test Accuracy:  0.9793\n"
     ]
    }
   ],
   "source": [
    "#Start Graph execution\n",
    "with tf.Session() as sess:\n",
    "    \n",
    "    # variables need to be initialized before we can use them\n",
    "    sess.run(tf.global_variables_initializer())\n",
    "   \n",
    "    # perform training cycles\n",
    "    for epoch in range(training_epochs):\n",
    "        \n",
    "        # number of batches in one epoch\n",
    "        batch_count = int(trainX.shape[0]/batch_size)\n",
    "        \n",
    "        for i in range(batch_count):\n",
    "            batch_x  = trainX[i*batch_size:i*batch_size+batch_size]\n",
    "            batch_y  = trainY[i*batch_size:i*batch_size+batch_size]\n",
    "\n",
    "            # perform the operations we defined earlier on batch\n",
    "            _,acc,loss = sess.run([train_op, \n",
    "                                   training_accuracy,training_loss], \n",
    "                                  feed_dict={x: batch_x, y_: batch_y})\n",
    "            \n",
    "            #log training accuracy and loss\n",
    "            writer.add_summary(acc, epoch * batch_count + i)\n",
    "            writer.add_summary(loss, epoch * batch_count + i)    \n",
    "                       \n",
    "        #Test loss and accuracy\n",
    "        #Please note we are giving test data\n",
    "        acc,loss = sess.run([test_accuracy,test_loss],\n",
    "                                   feed_dict={x: testX, y_: testY})\n",
    "        \n",
    "        writer.add_summary(acc, epoch * batch_count + i)\n",
    "        writer.add_summary(loss, epoch * batch_count + i)\n",
    "        \n",
    "        if epoch % 5 == 0: \n",
    "            print (\"Epoch: \", epoch)\n",
    "            print (\"Test Accuracy: \", accuracy.eval(feed_dict={x: testX, \n",
    "                                                               y_: testY}))               \n",
    "    \n",
    "    \n",
    "    #Create a Saver to save the graph\n",
    "    saver = tf.train.Saver()\n",
    "    saver.save(sess, logs_path + '/' + model_name)"
   ]
  },
  {
   "cell_type": "markdown",
   "metadata": {},
   "source": [
    "**ANN outperformed the Logistic Regression classification or other Machine Learning models with Accuracy 97.93%**"
   ]
  },
  {
   "cell_type": "code",
   "execution_count": 24,
   "metadata": {
    "colab": {
     "autoexec": {
      "startup": false,
      "wait_interval": 0
     }
    },
    "colab_type": "code",
    "id": "o1M-9oLcZ_gR"
   },
   "outputs": [],
   "source": [
    "sess.close()"
   ]
  },
  {
   "cell_type": "code",
   "execution_count": null,
   "metadata": {},
   "outputs": [],
   "source": []
  }
 ],
 "metadata": {
  "colab": {
   "default_view": {},
   "name": "5b. MNIST_DNN_RELU_Decay_Learning.ipynb",
   "private_outputs": true,
   "provenance": [],
   "version": "0.3.2",
   "views": {}
  },
  "kernelspec": {
   "display_name": "Python 3",
   "language": "python",
   "name": "python3"
  },
  "language_info": {
   "codemirror_mode": {
    "name": "ipython",
    "version": 3
   },
   "file_extension": ".py",
   "mimetype": "text/x-python",
   "name": "python",
   "nbconvert_exporter": "python",
   "pygments_lexer": "ipython3",
   "version": "3.6.5"
  }
 },
 "nbformat": 4,
 "nbformat_minor": 1
}
